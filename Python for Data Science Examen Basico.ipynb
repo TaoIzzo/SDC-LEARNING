{
 "cells": [
  {
   "cell_type": "markdown",
   "id": "d8f6f114",
   "metadata": {},
   "source": [
    "### Tao Izzo Elvira\n",
    "\n",
    "# CASO 1\n",
    "\n",
    "Teniendo en cuenta la base de datos DATA_FUGA.csv que corresponde a los datos de una data que analiza la fuga de clientes de una entidad bancaria realizar las siguientes actividades:"
   ]
  },
  {
   "cell_type": "code",
   "execution_count": 1,
   "id": "bf1a6ee7",
   "metadata": {
    "ExecuteTime": {
     "end_time": "2023-05-07T02:44:04.979819Z",
     "start_time": "2023-05-07T02:44:03.839070Z"
    }
   },
   "outputs": [],
   "source": [
    "import warnings\n",
    "import pandas as pd\n",
    "import numpy as np\n",
    "from datetime import datetime\n",
    "from collections import Counter\n",
    "from scipy import stats\n",
    "pd.set_option('display.max_columns', None)\n",
    "pd.set_option(\"display.max_rows\", None)\n",
    "from sklearn.model_selection import train_test_split \n",
    "from sklearn.decomposition import FactorAnalysis\n",
    "from sklearn.decomposition import PCA\n",
    "from imblearn.under_sampling import RandomUnderSampler\n",
    "from sklearn.preprocessing import KBinsDiscretizer\n",
    "from imblearn.over_sampling import RandomOverSampler\n",
    "from sklearn.preprocessing import StandardScaler"
   ]
  },
  {
   "cell_type": "code",
   "execution_count": 2,
   "id": "c36606e6",
   "metadata": {
    "ExecuteTime": {
     "end_time": "2023-05-07T02:44:05.764470Z",
     "start_time": "2023-05-07T02:44:04.980814Z"
    }
   },
   "outputs": [],
   "source": [
    "df = pd.read_csv(\"DATA_FUGA.csv\")"
   ]
  },
  {
   "cell_type": "code",
   "execution_count": 3,
   "id": "e8a8f975",
   "metadata": {
    "ExecuteTime": {
     "end_time": "2023-05-07T02:44:05.783528Z",
     "start_time": "2023-05-07T02:44:05.765477Z"
    }
   },
   "outputs": [
    {
     "data": {
      "text/html": [
       "<div>\n",
       "<style scoped>\n",
       "    .dataframe tbody tr th:only-of-type {\n",
       "        vertical-align: middle;\n",
       "    }\n",
       "\n",
       "    .dataframe tbody tr th {\n",
       "        vertical-align: top;\n",
       "    }\n",
       "\n",
       "    .dataframe thead th {\n",
       "        text-align: right;\n",
       "    }\n",
       "</style>\n",
       "<table border=\"1\" class=\"dataframe\">\n",
       "  <thead>\n",
       "    <tr style=\"text-align: right;\">\n",
       "      <th></th>\n",
       "      <th>CODMES</th>\n",
       "      <th>TARGET_MODEL2</th>\n",
       "      <th>EDAD</th>\n",
       "      <th>SEXO</th>\n",
       "      <th>DEPARTAMENTO</th>\n",
       "      <th>INGRESO_BRUTO_M1</th>\n",
       "      <th>FLG_CLIENTE</th>\n",
       "      <th>SEGMENTO</th>\n",
       "      <th>FLG_ADEL_SUELDO_M1</th>\n",
       "      <th>FREC_AGENTE</th>\n",
       "      <th>FLG_VEH_SF</th>\n",
       "      <th>FLG_CONV_SF</th>\n",
       "      <th>FREC_KIOSKO</th>\n",
       "      <th>FREC_BPI_TD</th>\n",
       "      <th>FREC_MON_TD</th>\n",
       "      <th>PROM_CTD_TRX_6M</th>\n",
       "      <th>ANT_CLIENTE</th>\n",
       "      <th>REC_AGENTE_TD</th>\n",
       "      <th>CTD_RECLAMOS_M1</th>\n",
       "    </tr>\n",
       "  </thead>\n",
       "  <tbody>\n",
       "    <tr>\n",
       "      <th>0</th>\n",
       "      <td>201411</td>\n",
       "      <td>0</td>\n",
       "      <td>46</td>\n",
       "      <td>F</td>\n",
       "      <td>PIURA</td>\n",
       "      <td>NaN</td>\n",
       "      <td>NO CLIENTE</td>\n",
       "      <td>2</td>\n",
       "      <td>0</td>\n",
       "      <td>0</td>\n",
       "      <td>0.0</td>\n",
       "      <td>0.0</td>\n",
       "      <td>0</td>\n",
       "      <td>0</td>\n",
       "      <td>0</td>\n",
       "      <td>0.0</td>\n",
       "      <td>224.0</td>\n",
       "      <td>NaN</td>\n",
       "      <td>0</td>\n",
       "    </tr>\n",
       "    <tr>\n",
       "      <th>1</th>\n",
       "      <td>201411</td>\n",
       "      <td>0</td>\n",
       "      <td>54</td>\n",
       "      <td>M</td>\n",
       "      <td>LORETO</td>\n",
       "      <td>4718.0</td>\n",
       "      <td>CLIENTE</td>\n",
       "      <td>1BC</td>\n",
       "      <td>0</td>\n",
       "      <td>0</td>\n",
       "      <td>0.0</td>\n",
       "      <td>1.0</td>\n",
       "      <td>0</td>\n",
       "      <td>0</td>\n",
       "      <td>0</td>\n",
       "      <td>0.0</td>\n",
       "      <td>123.0</td>\n",
       "      <td>NaN</td>\n",
       "      <td>0</td>\n",
       "    </tr>\n",
       "    <tr>\n",
       "      <th>2</th>\n",
       "      <td>201411</td>\n",
       "      <td>0</td>\n",
       "      <td>81</td>\n",
       "      <td>M</td>\n",
       "      <td>NaN</td>\n",
       "      <td>NaN</td>\n",
       "      <td>CLIENTE</td>\n",
       "      <td>6</td>\n",
       "      <td>0</td>\n",
       "      <td>0</td>\n",
       "      <td>NaN</td>\n",
       "      <td>NaN</td>\n",
       "      <td>0</td>\n",
       "      <td>0</td>\n",
       "      <td>0</td>\n",
       "      <td>0.0</td>\n",
       "      <td>264.0</td>\n",
       "      <td>NaN</td>\n",
       "      <td>0</td>\n",
       "    </tr>\n",
       "    <tr>\n",
       "      <th>3</th>\n",
       "      <td>201411</td>\n",
       "      <td>0</td>\n",
       "      <td>42</td>\n",
       "      <td>M</td>\n",
       "      <td>PIURA</td>\n",
       "      <td>936.0</td>\n",
       "      <td>CLIENTE</td>\n",
       "      <td>2</td>\n",
       "      <td>0</td>\n",
       "      <td>0</td>\n",
       "      <td>NaN</td>\n",
       "      <td>NaN</td>\n",
       "      <td>0</td>\n",
       "      <td>0</td>\n",
       "      <td>0</td>\n",
       "      <td>0.0</td>\n",
       "      <td>263.0</td>\n",
       "      <td>NaN</td>\n",
       "      <td>0</td>\n",
       "    </tr>\n",
       "    <tr>\n",
       "      <th>4</th>\n",
       "      <td>201411</td>\n",
       "      <td>0</td>\n",
       "      <td>52</td>\n",
       "      <td>M</td>\n",
       "      <td>MOQUEGUA</td>\n",
       "      <td>5844.0</td>\n",
       "      <td>CLIENTE</td>\n",
       "      <td>1BC</td>\n",
       "      <td>0</td>\n",
       "      <td>0</td>\n",
       "      <td>NaN</td>\n",
       "      <td>NaN</td>\n",
       "      <td>0</td>\n",
       "      <td>0</td>\n",
       "      <td>0</td>\n",
       "      <td>0.0</td>\n",
       "      <td>263.0</td>\n",
       "      <td>NaN</td>\n",
       "      <td>0</td>\n",
       "    </tr>\n",
       "  </tbody>\n",
       "</table>\n",
       "</div>"
      ],
      "text/plain": [
       "   CODMES  TARGET_MODEL2  EDAD SEXO DEPARTAMENTO  INGRESO_BRUTO_M1  \\\n",
       "0  201411              0    46    F        PIURA               NaN   \n",
       "1  201411              0    54    M       LORETO            4718.0   \n",
       "2  201411              0    81    M          NaN               NaN   \n",
       "3  201411              0    42    M        PIURA             936.0   \n",
       "4  201411              0    52    M     MOQUEGUA            5844.0   \n",
       "\n",
       "  FLG_CLIENTE SEGMENTO  FLG_ADEL_SUELDO_M1  FREC_AGENTE  FLG_VEH_SF  \\\n",
       "0  NO CLIENTE        2                   0            0         0.0   \n",
       "1     CLIENTE      1BC                   0            0         0.0   \n",
       "2     CLIENTE        6                   0            0         NaN   \n",
       "3     CLIENTE        2                   0            0         NaN   \n",
       "4     CLIENTE      1BC                   0            0         NaN   \n",
       "\n",
       "   FLG_CONV_SF  FREC_KIOSKO  FREC_BPI_TD  FREC_MON_TD  PROM_CTD_TRX_6M  \\\n",
       "0          0.0            0            0            0              0.0   \n",
       "1          1.0            0            0            0              0.0   \n",
       "2          NaN            0            0            0              0.0   \n",
       "3          NaN            0            0            0              0.0   \n",
       "4          NaN            0            0            0              0.0   \n",
       "\n",
       "   ANT_CLIENTE  REC_AGENTE_TD  CTD_RECLAMOS_M1  \n",
       "0        224.0            NaN                0  \n",
       "1        123.0            NaN                0  \n",
       "2        264.0            NaN                0  \n",
       "3        263.0            NaN                0  \n",
       "4        263.0            NaN                0  "
      ]
     },
     "execution_count": 3,
     "metadata": {},
     "output_type": "execute_result"
    }
   ],
   "source": [
    "df.head()"
   ]
  },
  {
   "cell_type": "code",
   "execution_count": 4,
   "id": "18de0451",
   "metadata": {
    "ExecuteTime": {
     "end_time": "2023-05-07T02:44:05.789215Z",
     "start_time": "2023-05-07T02:44:05.785521Z"
    }
   },
   "outputs": [
    {
     "data": {
      "text/plain": [
       "Index(['CODMES', 'TARGET_MODEL2', 'EDAD', 'SEXO', 'DEPARTAMENTO',\n",
       "       'INGRESO_BRUTO_M1', 'FLG_CLIENTE', 'SEGMENTO', 'FLG_ADEL_SUELDO_M1',\n",
       "       'FREC_AGENTE', 'FLG_VEH_SF', 'FLG_CONV_SF', 'FREC_KIOSKO',\n",
       "       'FREC_BPI_TD', 'FREC_MON_TD', 'PROM_CTD_TRX_6M', 'ANT_CLIENTE',\n",
       "       'REC_AGENTE_TD', 'CTD_RECLAMOS_M1'],\n",
       "      dtype='object')"
      ]
     },
     "execution_count": 4,
     "metadata": {},
     "output_type": "execute_result"
    }
   ],
   "source": [
    "df.columns"
   ]
  },
  {
   "cell_type": "code",
   "execution_count": 5,
   "id": "aaf9fdac",
   "metadata": {
    "ExecuteTime": {
     "end_time": "2023-05-07T02:44:05.799019Z",
     "start_time": "2023-05-07T02:44:05.790211Z"
    }
   },
   "outputs": [
    {
     "data": {
      "text/plain": [
       "(787495, 19)"
      ]
     },
     "execution_count": 5,
     "metadata": {},
     "output_type": "execute_result"
    }
   ],
   "source": [
    "df.shape"
   ]
  },
  {
   "cell_type": "code",
   "execution_count": 6,
   "id": "cf5f1ceb",
   "metadata": {
    "ExecuteTime": {
     "end_time": "2023-05-07T02:44:05.809129Z",
     "start_time": "2023-05-07T02:44:05.800033Z"
    }
   },
   "outputs": [
    {
     "data": {
      "text/plain": [
       "CODMES                  int64\n",
       "TARGET_MODEL2           int64\n",
       "EDAD                    int64\n",
       "SEXO                   object\n",
       "DEPARTAMENTO           object\n",
       "INGRESO_BRUTO_M1      float64\n",
       "FLG_CLIENTE            object\n",
       "SEGMENTO               object\n",
       "FLG_ADEL_SUELDO_M1      int64\n",
       "FREC_AGENTE             int64\n",
       "FLG_VEH_SF            float64\n",
       "FLG_CONV_SF           float64\n",
       "FREC_KIOSKO             int64\n",
       "FREC_BPI_TD             int64\n",
       "FREC_MON_TD             int64\n",
       "PROM_CTD_TRX_6M       float64\n",
       "ANT_CLIENTE           float64\n",
       "REC_AGENTE_TD         float64\n",
       "CTD_RECLAMOS_M1         int64\n",
       "dtype: object"
      ]
     },
     "execution_count": 6,
     "metadata": {},
     "output_type": "execute_result"
    }
   ],
   "source": [
    "df.dtypes"
   ]
  },
  {
   "cell_type": "code",
   "execution_count": 7,
   "id": "5670a4ff",
   "metadata": {
    "ExecuteTime": {
     "end_time": "2023-05-07T02:44:06.036337Z",
     "start_time": "2023-05-07T02:44:05.811123Z"
    }
   },
   "outputs": [
    {
     "data": {
      "text/plain": [
       "CODMES                    3\n",
       "TARGET_MODEL2             2\n",
       "EDAD                    109\n",
       "SEXO                      2\n",
       "DEPARTAMENTO             25\n",
       "INGRESO_BRUTO_M1      15162\n",
       "FLG_CLIENTE               2\n",
       "SEGMENTO                  8\n",
       "FLG_ADEL_SUELDO_M1        2\n",
       "FREC_AGENTE               7\n",
       "FLG_VEH_SF                2\n",
       "FLG_CONV_SF               2\n",
       "FREC_KIOSKO               7\n",
       "FREC_BPI_TD               7\n",
       "FREC_MON_TD               7\n",
       "PROM_CTD_TRX_6M         446\n",
       "ANT_CLIENTE             378\n",
       "REC_AGENTE_TD             6\n",
       "CTD_RECLAMOS_M1           2\n",
       "dtype: int64"
      ]
     },
     "execution_count": 7,
     "metadata": {},
     "output_type": "execute_result"
    }
   ],
   "source": [
    "df.nunique()"
   ]
  },
  {
   "cell_type": "markdown",
   "id": "242a6704",
   "metadata": {},
   "source": [
    "1. Luego de haber realizado la cargar de datos y antes de realizar el particionamiento de los datos (función: train_test_split). Seleccione todas las variables que tienen más de 30% de nulos. Pregunta de selección múltiple."
   ]
  },
  {
   "cell_type": "code",
   "execution_count": 8,
   "id": "e55655c6",
   "metadata": {
    "ExecuteTime": {
     "end_time": "2023-05-07T02:44:06.271589Z",
     "start_time": "2023-05-07T02:44:06.037353Z"
    }
   },
   "outputs": [
    {
     "name": "stdout",
     "output_type": "stream",
     "text": [
      "--------------------CODMES--------------------\n",
      "La columna tiene 0 nulos\n"
     ]
    },
    {
     "data": {
      "text/plain": [
       "'0.0%'"
      ]
     },
     "metadata": {},
     "output_type": "display_data"
    },
    {
     "name": "stdout",
     "output_type": "stream",
     "text": [
      "--------------------TARGET_MODEL2--------------------\n",
      "La columna tiene 0 nulos\n"
     ]
    },
    {
     "data": {
      "text/plain": [
       "'0.0%'"
      ]
     },
     "metadata": {},
     "output_type": "display_data"
    },
    {
     "name": "stdout",
     "output_type": "stream",
     "text": [
      "--------------------EDAD--------------------\n",
      "La columna tiene 0 nulos\n"
     ]
    },
    {
     "data": {
      "text/plain": [
       "'0.0%'"
      ]
     },
     "metadata": {},
     "output_type": "display_data"
    },
    {
     "name": "stdout",
     "output_type": "stream",
     "text": [
      "--------------------SEXO--------------------\n",
      "La columna tiene 0 nulos\n"
     ]
    },
    {
     "data": {
      "text/plain": [
       "'0.0%'"
      ]
     },
     "metadata": {},
     "output_type": "display_data"
    },
    {
     "name": "stdout",
     "output_type": "stream",
     "text": [
      "--------------------DEPARTAMENTO--------------------\n",
      "La columna tiene 26975 nulos\n"
     ]
    },
    {
     "data": {
      "text/plain": [
       "'3.4254185740861844%'"
      ]
     },
     "metadata": {},
     "output_type": "display_data"
    },
    {
     "name": "stdout",
     "output_type": "stream",
     "text": [
      "--------------------INGRESO_BRUTO_M1--------------------\n",
      "La columna tiene 187254 nulos\n"
     ]
    },
    {
     "data": {
      "text/plain": [
       "'23.778436688486913%'"
      ]
     },
     "metadata": {},
     "output_type": "display_data"
    },
    {
     "name": "stdout",
     "output_type": "stream",
     "text": [
      "--------------------FLG_CLIENTE--------------------\n",
      "La columna tiene 0 nulos\n"
     ]
    },
    {
     "data": {
      "text/plain": [
       "'0.0%'"
      ]
     },
     "metadata": {},
     "output_type": "display_data"
    },
    {
     "name": "stdout",
     "output_type": "stream",
     "text": [
      "--------------------SEGMENTO--------------------\n",
      "La columna tiene 0 nulos\n"
     ]
    },
    {
     "data": {
      "text/plain": [
       "'0.0%'"
      ]
     },
     "metadata": {},
     "output_type": "display_data"
    },
    {
     "name": "stdout",
     "output_type": "stream",
     "text": [
      "--------------------FLG_ADEL_SUELDO_M1--------------------\n",
      "La columna tiene 0 nulos\n"
     ]
    },
    {
     "data": {
      "text/plain": [
       "'0.0%'"
      ]
     },
     "metadata": {},
     "output_type": "display_data"
    },
    {
     "name": "stdout",
     "output_type": "stream",
     "text": [
      "--------------------FREC_AGENTE--------------------\n",
      "La columna tiene 0 nulos\n"
     ]
    },
    {
     "data": {
      "text/plain": [
       "'0.0%'"
      ]
     },
     "metadata": {},
     "output_type": "display_data"
    },
    {
     "name": "stdout",
     "output_type": "stream",
     "text": [
      "--------------------FLG_VEH_SF--------------------\n",
      "La columna tiene 269383 nulos\n"
     ]
    },
    {
     "data": {
      "text/plain": [
       "'34.20758227036362%'"
      ]
     },
     "metadata": {},
     "output_type": "display_data"
    },
    {
     "name": "stdout",
     "output_type": "stream",
     "text": [
      "--------------------FLG_CONV_SF--------------------\n",
      "La columna tiene 269383 nulos\n"
     ]
    },
    {
     "data": {
      "text/plain": [
       "'34.20758227036362%'"
      ]
     },
     "metadata": {},
     "output_type": "display_data"
    },
    {
     "name": "stdout",
     "output_type": "stream",
     "text": [
      "--------------------FREC_KIOSKO--------------------\n",
      "La columna tiene 0 nulos\n"
     ]
    },
    {
     "data": {
      "text/plain": [
       "'0.0%'"
      ]
     },
     "metadata": {},
     "output_type": "display_data"
    },
    {
     "name": "stdout",
     "output_type": "stream",
     "text": [
      "--------------------FREC_BPI_TD--------------------\n",
      "La columna tiene 0 nulos\n"
     ]
    },
    {
     "data": {
      "text/plain": [
       "'0.0%'"
      ]
     },
     "metadata": {},
     "output_type": "display_data"
    },
    {
     "name": "stdout",
     "output_type": "stream",
     "text": [
      "--------------------FREC_MON_TD--------------------\n",
      "La columna tiene 0 nulos\n"
     ]
    },
    {
     "data": {
      "text/plain": [
       "'0.0%'"
      ]
     },
     "metadata": {},
     "output_type": "display_data"
    },
    {
     "name": "stdout",
     "output_type": "stream",
     "text": [
      "--------------------PROM_CTD_TRX_6M--------------------\n",
      "La columna tiene 0 nulos\n"
     ]
    },
    {
     "data": {
      "text/plain": [
       "'0.0%'"
      ]
     },
     "metadata": {},
     "output_type": "display_data"
    },
    {
     "name": "stdout",
     "output_type": "stream",
     "text": [
      "--------------------ANT_CLIENTE--------------------\n",
      "La columna tiene 923 nulos\n"
     ]
    },
    {
     "data": {
      "text/plain": [
       "'0.11720709337837065%'"
      ]
     },
     "metadata": {},
     "output_type": "display_data"
    },
    {
     "name": "stdout",
     "output_type": "stream",
     "text": [
      "--------------------REC_AGENTE_TD--------------------\n",
      "La columna tiene 695206 nulos\n"
     ]
    },
    {
     "data": {
      "text/plain": [
       "'88.28068749642854%'"
      ]
     },
     "metadata": {},
     "output_type": "display_data"
    },
    {
     "name": "stdout",
     "output_type": "stream",
     "text": [
      "--------------------CTD_RECLAMOS_M1--------------------\n",
      "La columna tiene 0 nulos\n"
     ]
    },
    {
     "data": {
      "text/plain": [
       "'0.0%'"
      ]
     },
     "metadata": {},
     "output_type": "display_data"
    }
   ],
   "source": [
    "for col in df.columns:\n",
    "    print(\"-\"*20 + col+\"-\"*20)\n",
    "    print(f\"La columna tiene {df[col].isnull().sum()} nulos\")\n",
    "    display(str(df[col].isnull().sum()/len(df[col])*100)+\"%\")"
   ]
  },
  {
   "cell_type": "markdown",
   "id": "af274825",
   "metadata": {},
   "source": [
    "Las columnas\n",
    "- FLG_VEH_SF\n",
    "- FLG_CONV_SF\n",
    "- REC_AGENTE_TD\n",
    "\n",
    "Tienen presentes mas del 30% de datos nulos"
   ]
  },
  {
   "cell_type": "markdown",
   "id": "7c356fc3",
   "metadata": {},
   "source": [
    "2. Elimine la variable \"REC_AGENTE_TD\". Realice el particionamiento de los datos usando train_test_split()  con los siguientes parametros test_size=0.7, random_state=20, stratify=y. Luego de ello aplica la imputación simple (mean y mode) a toda su data train, segun el tipo de variable. Ahora, utilizando sus datos de entrenamiento imputados seleccione la grafica de dispersion correcta, siendo x=ANT_CLIENTE y y=INGRESO_BRUTO_M1"
   ]
  },
  {
   "cell_type": "code",
   "execution_count": 9,
   "id": "2f2e5198",
   "metadata": {
    "ExecuteTime": {
     "end_time": "2023-05-07T02:44:06.317317Z",
     "start_time": "2023-05-07T02:44:06.273583Z"
    }
   },
   "outputs": [],
   "source": [
    "df.drop(columns=[\"REC_AGENTE_TD\"],inplace=True)"
   ]
  },
  {
   "cell_type": "code",
   "execution_count": 10,
   "id": "4e307d58",
   "metadata": {
    "ExecuteTime": {
     "end_time": "2023-05-07T02:44:06.360612Z",
     "start_time": "2023-05-07T02:44:06.319257Z"
    }
   },
   "outputs": [],
   "source": [
    "x = df.loc[:,['CODMES', 'EDAD', 'SEXO', 'DEPARTAMENTO',\n",
    "       'INGRESO_BRUTO_M1', 'FLG_CLIENTE', 'SEGMENTO', 'FLG_ADEL_SUELDO_M1',\n",
    "       'FREC_AGENTE', 'FLG_VEH_SF', 'FLG_CONV_SF', 'FREC_KIOSKO',\n",
    "       'FREC_BPI_TD', 'FREC_MON_TD', 'PROM_CTD_TRX_6M', 'ANT_CLIENTE',\n",
    "       'CTD_RECLAMOS_M1']]\n",
    "y = df.loc[:,[\"TARGET_MODEL2\"]]"
   ]
  },
  {
   "cell_type": "code",
   "execution_count": 11,
   "id": "d444f3b3",
   "metadata": {
    "ExecuteTime": {
     "end_time": "2023-05-07T02:44:09.450531Z",
     "start_time": "2023-05-07T02:44:06.361123Z"
    }
   },
   "outputs": [],
   "source": [
    "x_train, x_test, y_train, y_test = train_test_split(x,y,test_size=0.7, random_state=20, stratify=y)\n"
   ]
  },
  {
   "cell_type": "code",
   "execution_count": 12,
   "id": "8e8f524d",
   "metadata": {
    "ExecuteTime": {
     "end_time": "2023-05-07T02:44:09.457922Z",
     "start_time": "2023-05-07T02:44:09.451036Z"
    }
   },
   "outputs": [
    {
     "data": {
      "text/html": [
       "<div>\n",
       "<style scoped>\n",
       "    .dataframe tbody tr th:only-of-type {\n",
       "        vertical-align: middle;\n",
       "    }\n",
       "\n",
       "    .dataframe tbody tr th {\n",
       "        vertical-align: top;\n",
       "    }\n",
       "\n",
       "    .dataframe thead th {\n",
       "        text-align: right;\n",
       "    }\n",
       "</style>\n",
       "<table border=\"1\" class=\"dataframe\">\n",
       "  <thead>\n",
       "    <tr style=\"text-align: right;\">\n",
       "      <th></th>\n",
       "      <th>TARGET_MODEL2</th>\n",
       "    </tr>\n",
       "  </thead>\n",
       "  <tbody>\n",
       "    <tr>\n",
       "      <th>577649</th>\n",
       "      <td>0</td>\n",
       "    </tr>\n",
       "    <tr>\n",
       "      <th>684347</th>\n",
       "      <td>0</td>\n",
       "    </tr>\n",
       "    <tr>\n",
       "      <th>555294</th>\n",
       "      <td>0</td>\n",
       "    </tr>\n",
       "    <tr>\n",
       "      <th>369724</th>\n",
       "      <td>1</td>\n",
       "    </tr>\n",
       "    <tr>\n",
       "      <th>80727</th>\n",
       "      <td>0</td>\n",
       "    </tr>\n",
       "  </tbody>\n",
       "</table>\n",
       "</div>"
      ],
      "text/plain": [
       "        TARGET_MODEL2\n",
       "577649              0\n",
       "684347              0\n",
       "555294              0\n",
       "369724              1\n",
       "80727               0"
      ]
     },
     "execution_count": 12,
     "metadata": {},
     "output_type": "execute_result"
    }
   ],
   "source": [
    "y_train.head() "
   ]
  },
  {
   "cell_type": "code",
   "execution_count": 13,
   "id": "f55a1169",
   "metadata": {
    "ExecuteTime": {
     "end_time": "2023-05-07T02:44:09.478791Z",
     "start_time": "2023-05-07T02:44:09.459915Z"
    }
   },
   "outputs": [],
   "source": [
    "categorical = x_train.select_dtypes(include=['object']).columns\n",
    "numerical = x_train.select_dtypes(exclude=['object']).columns"
   ]
  },
  {
   "cell_type": "code",
   "execution_count": 14,
   "id": "77d934e4",
   "metadata": {
    "ExecuteTime": {
     "end_time": "2023-05-07T02:44:09.483351Z",
     "start_time": "2023-05-07T02:44:09.479787Z"
    }
   },
   "outputs": [
    {
     "data": {
      "text/plain": [
       "Index(['SEXO', 'DEPARTAMENTO', 'FLG_CLIENTE', 'SEGMENTO'], dtype='object')"
      ]
     },
     "execution_count": 14,
     "metadata": {},
     "output_type": "execute_result"
    }
   ],
   "source": [
    "categorical"
   ]
  },
  {
   "cell_type": "code",
   "execution_count": 15,
   "id": "0c268718",
   "metadata": {
    "ExecuteTime": {
     "end_time": "2023-05-07T02:44:09.494525Z",
     "start_time": "2023-05-07T02:44:09.484346Z"
    }
   },
   "outputs": [
    {
     "data": {
      "text/plain": [
       "Index(['CODMES', 'EDAD', 'INGRESO_BRUTO_M1', 'FLG_ADEL_SUELDO_M1',\n",
       "       'FREC_AGENTE', 'FLG_VEH_SF', 'FLG_CONV_SF', 'FREC_KIOSKO',\n",
       "       'FREC_BPI_TD', 'FREC_MON_TD', 'PROM_CTD_TRX_6M', 'ANT_CLIENTE',\n",
       "       'CTD_RECLAMOS_M1'],\n",
       "      dtype='object')"
      ]
     },
     "execution_count": 15,
     "metadata": {},
     "output_type": "execute_result"
    }
   ],
   "source": [
    "numerical"
   ]
  },
  {
   "cell_type": "code",
   "execution_count": 16,
   "id": "ee823371",
   "metadata": {
    "ExecuteTime": {
     "end_time": "2023-05-07T02:44:09.575845Z",
     "start_time": "2023-05-07T02:44:09.495521Z"
    }
   },
   "outputs": [],
   "source": [
    "for i in numerical:\n",
    "    x_train[i] = x_train[i].fillna(df[i].mean())"
   ]
  },
  {
   "cell_type": "code",
   "execution_count": 17,
   "id": "b6b32928",
   "metadata": {
    "ExecuteTime": {
     "end_time": "2023-05-07T02:44:09.761863Z",
     "start_time": "2023-05-07T02:44:09.576841Z"
    }
   },
   "outputs": [],
   "source": [
    "for i in categorical:\n",
    "    x_train[i] = x_train[i].fillna(df[i].mode())"
   ]
  },
  {
   "cell_type": "code",
   "execution_count": 18,
   "id": "4594d48f",
   "metadata": {
    "ExecuteTime": {
     "end_time": "2023-05-07T02:44:11.203162Z",
     "start_time": "2023-05-07T02:44:09.762860Z"
    }
   },
   "outputs": [
    {
     "data": {
      "text/plain": [
       "Text(0.5, 1.0, 'Ingreso bruto de clinetes')"
      ]
     },
     "execution_count": 18,
     "metadata": {},
     "output_type": "execute_result"
    },
    {
     "data": {
      "image/png": "[encoded data removed]",
      "text/plain": [
       "<Figure size 640x480 with 1 Axes>"
      ]
     },
     "metadata": {},
     "output_type": "display_data"
    }
   ],
   "source": [
    "import matplotlib.pyplot as plt\n",
    "plt.scatter(x_train.ANT_CLIENTE,x_train.INGRESO_BRUTO_M1)\n",
    "plt.ylabel(\"INGRESO_BRUTO_M1\")\n",
    "plt.xlabel(\"ANT_CLIENTE\")\n",
    "plt.title(\"Ingreso bruto de clinetes\")"
   ]
  },
  {
   "cell_type": "markdown",
   "id": "0d980422",
   "metadata": {},
   "source": [
    "3. De aplicar z_score < 3 a los datos numericos ¿Cuántas filas quedarian en el dataframe train? Nota: No sobreescriba el df de train"
   ]
  },
  {
   "cell_type": "code",
   "execution_count": 19,
   "id": "e9949695",
   "metadata": {
    "ExecuteTime": {
     "end_time": "2023-05-07T02:44:11.315402Z",
     "start_time": "2023-05-07T02:44:11.204159Z"
    }
   },
   "outputs": [],
   "source": [
    "zscore = np.abs(stats.zscore(x_train[numerical]))"
   ]
  },
  {
   "cell_type": "code",
   "execution_count": 20,
   "id": "cb67d403",
   "metadata": {
    "ExecuteTime": {
     "end_time": "2023-05-07T02:44:11.337342Z",
     "start_time": "2023-05-07T02:44:11.316398Z"
    }
   },
   "outputs": [],
   "source": [
    "x_train_zscore=x_train[(zscore<3).all(axis=1)]"
   ]
  },
  {
   "cell_type": "code",
   "execution_count": 21,
   "id": "1bd62df2",
   "metadata": {
    "ExecuteTime": {
     "end_time": "2023-05-07T02:44:11.348876Z",
     "start_time": "2023-05-07T02:44:11.338345Z"
    }
   },
   "outputs": [
    {
     "data": {
      "text/html": [
       "<div>\n",
       "<style scoped>\n",
       "    .dataframe tbody tr th:only-of-type {\n",
       "        vertical-align: middle;\n",
       "    }\n",
       "\n",
       "    .dataframe tbody tr th {\n",
       "        vertical-align: top;\n",
       "    }\n",
       "\n",
       "    .dataframe thead th {\n",
       "        text-align: right;\n",
       "    }\n",
       "</style>\n",
       "<table border=\"1\" class=\"dataframe\">\n",
       "  <thead>\n",
       "    <tr style=\"text-align: right;\">\n",
       "      <th></th>\n",
       "      <th>CODMES</th>\n",
       "      <th>EDAD</th>\n",
       "      <th>SEXO</th>\n",
       "      <th>DEPARTAMENTO</th>\n",
       "      <th>INGRESO_BRUTO_M1</th>\n",
       "      <th>FLG_CLIENTE</th>\n",
       "      <th>SEGMENTO</th>\n",
       "      <th>FLG_ADEL_SUELDO_M1</th>\n",
       "      <th>FREC_AGENTE</th>\n",
       "      <th>FLG_VEH_SF</th>\n",
       "      <th>FLG_CONV_SF</th>\n",
       "      <th>FREC_KIOSKO</th>\n",
       "      <th>FREC_BPI_TD</th>\n",
       "      <th>FREC_MON_TD</th>\n",
       "      <th>PROM_CTD_TRX_6M</th>\n",
       "      <th>ANT_CLIENTE</th>\n",
       "      <th>CTD_RECLAMOS_M1</th>\n",
       "    </tr>\n",
       "  </thead>\n",
       "  <tbody>\n",
       "    <tr>\n",
       "      <th>577649</th>\n",
       "      <td>201502</td>\n",
       "      <td>50</td>\n",
       "      <td>M</td>\n",
       "      <td>PASCO</td>\n",
       "      <td>858.000000</td>\n",
       "      <td>CLIENTE</td>\n",
       "      <td>2</td>\n",
       "      <td>0</td>\n",
       "      <td>0</td>\n",
       "      <td>0.026506</td>\n",
       "      <td>0.061359</td>\n",
       "      <td>0</td>\n",
       "      <td>0</td>\n",
       "      <td>0</td>\n",
       "      <td>0.000000</td>\n",
       "      <td>153.0</td>\n",
       "      <td>0</td>\n",
       "    </tr>\n",
       "    <tr>\n",
       "      <th>555294</th>\n",
       "      <td>201411</td>\n",
       "      <td>24</td>\n",
       "      <td>M</td>\n",
       "      <td>LIMA</td>\n",
       "      <td>1873.000000</td>\n",
       "      <td>CLIENTE</td>\n",
       "      <td>5</td>\n",
       "      <td>0</td>\n",
       "      <td>0</td>\n",
       "      <td>0.026506</td>\n",
       "      <td>0.061359</td>\n",
       "      <td>0</td>\n",
       "      <td>0</td>\n",
       "      <td>1</td>\n",
       "      <td>0.000000</td>\n",
       "      <td>27.0</td>\n",
       "      <td>0</td>\n",
       "    </tr>\n",
       "    <tr>\n",
       "      <th>369724</th>\n",
       "      <td>201502</td>\n",
       "      <td>44</td>\n",
       "      <td>F</td>\n",
       "      <td>LIMA</td>\n",
       "      <td>965.000000</td>\n",
       "      <td>CLIENTE</td>\n",
       "      <td>5</td>\n",
       "      <td>0</td>\n",
       "      <td>0</td>\n",
       "      <td>0.000000</td>\n",
       "      <td>0.000000</td>\n",
       "      <td>1</td>\n",
       "      <td>0</td>\n",
       "      <td>0</td>\n",
       "      <td>1.166667</td>\n",
       "      <td>38.0</td>\n",
       "      <td>0</td>\n",
       "    </tr>\n",
       "    <tr>\n",
       "      <th>80727</th>\n",
       "      <td>201503</td>\n",
       "      <td>34</td>\n",
       "      <td>F</td>\n",
       "      <td>LIMA</td>\n",
       "      <td>2565.256405</td>\n",
       "      <td>NO CLIENTE</td>\n",
       "      <td>6</td>\n",
       "      <td>0</td>\n",
       "      <td>0</td>\n",
       "      <td>0.000000</td>\n",
       "      <td>0.000000</td>\n",
       "      <td>0</td>\n",
       "      <td>0</td>\n",
       "      <td>0</td>\n",
       "      <td>0.000000</td>\n",
       "      <td>80.0</td>\n",
       "      <td>0</td>\n",
       "    </tr>\n",
       "    <tr>\n",
       "      <th>700696</th>\n",
       "      <td>201503</td>\n",
       "      <td>24</td>\n",
       "      <td>M</td>\n",
       "      <td>LIMA</td>\n",
       "      <td>902.000000</td>\n",
       "      <td>CLIENTE</td>\n",
       "      <td>5</td>\n",
       "      <td>0</td>\n",
       "      <td>2</td>\n",
       "      <td>0.026506</td>\n",
       "      <td>0.061359</td>\n",
       "      <td>0</td>\n",
       "      <td>0</td>\n",
       "      <td>1</td>\n",
       "      <td>0.000000</td>\n",
       "      <td>51.0</td>\n",
       "      <td>0</td>\n",
       "    </tr>\n",
       "  </tbody>\n",
       "</table>\n",
       "</div>"
      ],
      "text/plain": [
       "        CODMES  EDAD SEXO DEPARTAMENTO  INGRESO_BRUTO_M1 FLG_CLIENTE SEGMENTO  \\\n",
       "577649  201502    50    M        PASCO        858.000000     CLIENTE        2   \n",
       "555294  201411    24    M         LIMA       1873.000000     CLIENTE        5   \n",
       "369724  201502    44    F         LIMA        965.000000     CLIENTE        5   \n",
       "80727   201503    34    F         LIMA       2565.256405  NO CLIENTE        6   \n",
       "700696  201503    24    M         LIMA        902.000000     CLIENTE        5   \n",
       "\n",
       "        FLG_ADEL_SUELDO_M1  FREC_AGENTE  FLG_VEH_SF  FLG_CONV_SF  FREC_KIOSKO  \\\n",
       "577649                   0            0    0.026506     0.061359            0   \n",
       "555294                   0            0    0.026506     0.061359            0   \n",
       "369724                   0            0    0.000000     0.000000            1   \n",
       "80727                    0            0    0.000000     0.000000            0   \n",
       "700696                   0            2    0.026506     0.061359            0   \n",
       "\n",
       "        FREC_BPI_TD  FREC_MON_TD  PROM_CTD_TRX_6M  ANT_CLIENTE  \\\n",
       "577649            0            0         0.000000        153.0   \n",
       "555294            0            1         0.000000         27.0   \n",
       "369724            0            0         1.166667         38.0   \n",
       "80727             0            0         0.000000         80.0   \n",
       "700696            0            1         0.000000         51.0   \n",
       "\n",
       "        CTD_RECLAMOS_M1  \n",
       "577649                0  \n",
       "555294                0  \n",
       "369724                0  \n",
       "80727                 0  \n",
       "700696                0  "
      ]
     },
     "execution_count": 21,
     "metadata": {},
     "output_type": "execute_result"
    }
   ],
   "source": [
    "x_train_zscore.head()"
   ]
  },
  {
   "cell_type": "code",
   "execution_count": 22,
   "id": "683c89ef",
   "metadata": {
    "ExecuteTime": {
     "end_time": "2023-05-07T02:44:11.358476Z",
     "start_time": "2023-05-07T02:44:11.349871Z"
    }
   },
   "outputs": [
    {
     "data": {
      "text/plain": [
       "164791"
      ]
     },
     "execution_count": 22,
     "metadata": {},
     "output_type": "execute_result"
    }
   ],
   "source": [
    "len(x_train_zscore)"
   ]
  },
  {
   "cell_type": "code",
   "execution_count": 23,
   "id": "98cadfc5",
   "metadata": {
    "ExecuteTime": {
     "end_time": "2023-05-07T02:44:11.367667Z",
     "start_time": "2023-05-07T02:44:11.359436Z"
    }
   },
   "outputs": [
    {
     "data": {
      "text/plain": [
       "236248"
      ]
     },
     "execution_count": 23,
     "metadata": {},
     "output_type": "execute_result"
    }
   ],
   "source": [
    "len(x_train)"
   ]
  },
  {
   "cell_type": "code",
   "execution_count": 24,
   "id": "04f4abfd",
   "metadata": {
    "ExecuteTime": {
     "end_time": "2023-05-07T02:44:11.378156Z",
     "start_time": "2023-05-07T02:44:11.368662Z"
    }
   },
   "outputs": [
    {
     "data": {
      "text/plain": [
       "71457"
      ]
     },
     "execution_count": 24,
     "metadata": {},
     "output_type": "execute_result"
    }
   ],
   "source": [
    "len(x_train) - len(x_train_zscore)"
   ]
  },
  {
   "cell_type": "markdown",
   "id": "a12b16dc",
   "metadata": {},
   "source": [
    "Quedarian 164,791 filas, eliminando 71,457 del data set train"
   ]
  },
  {
   "cell_type": "markdown",
   "id": "cab77d62",
   "metadata": {},
   "source": [
    "4. Al realizar la discretización \"uniform\" a \"INGRESO_BRUTO_M1\" de los datos de entrenamiento. ¿Cuántos valores cayeron en el grupo 6? Nota: Considera n_bins=18"
   ]
  },
  {
   "cell_type": "code",
   "execution_count": 25,
   "id": "f96341e5",
   "metadata": {
    "ExecuteTime": {
     "end_time": "2023-05-07T02:44:11.386745Z",
     "start_time": "2023-05-07T02:44:11.379151Z"
    }
   },
   "outputs": [],
   "source": [
    "amplitud = KBinsDiscretizer(n_bins=18,encode=\"ordinal\",strategy=\"uniform\")"
   ]
  },
  {
   "cell_type": "code",
   "execution_count": 26,
   "id": "5483a709",
   "metadata": {
    "ExecuteTime": {
     "end_time": "2023-05-07T02:44:11.401703Z",
     "start_time": "2023-05-07T02:44:11.387741Z"
    }
   },
   "outputs": [],
   "source": [
    "x_ingreso_uniform =amplitud.fit_transform(x_train[[\"INGRESO_BRUTO_M1\"]])"
   ]
  },
  {
   "cell_type": "code",
   "execution_count": 27,
   "id": "0f83560e",
   "metadata": {
    "ExecuteTime": {
     "end_time": "2023-05-07T02:44:11.552863Z",
     "start_time": "2023-05-07T02:44:11.402699Z"
    }
   },
   "outputs": [
    {
     "data": {
      "text/plain": [
       "<Axes: xlabel='INGRESO_BRUTO_M1_amplitud'>"
      ]
     },
     "execution_count": 27,
     "metadata": {},
     "output_type": "execute_result"
    },
    {
     "data": {
      "image/png": "[encoded data removed]",
      "text/plain": [
       "<Figure size 640x480 with 1 Axes>"
      ]
     },
     "metadata": {},
     "output_type": "display_data"
    }
   ],
   "source": [
    "xs = pd.DataFrame(x_ingreso_uniform)\n",
    "xs.columns = ['INGRESO_BRUTO_M1_amplitud']\n",
    "xs.groupby('INGRESO_BRUTO_M1_amplitud').size().plot(kind='bar')"
   ]
  },
  {
   "cell_type": "code",
   "execution_count": 28,
   "id": "a596af6f",
   "metadata": {
    "ExecuteTime": {
     "end_time": "2023-05-07T02:44:11.570829Z",
     "start_time": "2023-05-07T02:44:11.557850Z"
    }
   },
   "outputs": [
    {
     "data": {
      "text/plain": [
       "INGRESO_BRUTO_M1_amplitud\n",
       "0.0                          232996\n",
       "1.0                            2752\n",
       "2.0                             348\n",
       "3.0                              82\n",
       "4.0                              34\n",
       "6.0                              15\n",
       "5.0                              11\n",
       "7.0                               6\n",
       "9.0                               1\n",
       "10.0                              1\n",
       "13.0                              1\n",
       "17.0                              1\n",
       "dtype: int64"
      ]
     },
     "execution_count": 28,
     "metadata": {},
     "output_type": "execute_result"
    }
   ],
   "source": [
    "xs.value_counts()"
   ]
  },
  {
   "cell_type": "markdown",
   "id": "e0943a56",
   "metadata": {},
   "source": [
    "cuenta con 15 datos la 6ta particion"
   ]
  },
  {
   "cell_type": "markdown",
   "id": "b76f3f3e",
   "metadata": {},
   "source": [
    "5. Al realizar la discretización \"quantile\" a la variable \"EDAD\" de los datos de entrenamiento considerando que se realizará por cuartiles. ¿Cuántos valores cayeron en el grupo 3? Nota: Considera n_bins=4"
   ]
  },
  {
   "cell_type": "code",
   "execution_count": 29,
   "id": "904c8795",
   "metadata": {
    "ExecuteTime": {
     "end_time": "2023-05-07T02:44:11.575655Z",
     "start_time": "2023-05-07T02:44:11.572784Z"
    }
   },
   "outputs": [],
   "source": [
    "estq = KBinsDiscretizer(n_bins=4, encode='ordinal', strategy='quantile')"
   ]
  },
  {
   "cell_type": "code",
   "execution_count": 30,
   "id": "f689037c",
   "metadata": {
    "ExecuteTime": {
     "end_time": "2023-05-07T02:44:11.599673Z",
     "start_time": "2023-05-07T02:44:11.576650Z"
    }
   },
   "outputs": [
    {
     "name": "stderr",
     "output_type": "stream",
     "text": [
      "C:\\Users\\Tao\\AppData\\Local\\Programs\\Python\\Python311\\Lib\\site-packages\\sklearn\\preprocessing\\_discretization.py:216: FutureWarning: In version 1.3 onwards, subsample=2e5 will be used by default. Set subsample explicitly to silence this warning in the mean time. Set subsample=None to disable subsampling explicitly.\n",
      "  warnings.warn(\n"
     ]
    }
   ],
   "source": [
    "nuevoq = estq.fit_transform(x_train[['EDAD']])"
   ]
  },
  {
   "cell_type": "code",
   "execution_count": 31,
   "id": "067a540a",
   "metadata": {
    "ExecuteTime": {
     "end_time": "2023-05-07T02:44:11.604181Z",
     "start_time": "2023-05-07T02:44:11.600670Z"
    }
   },
   "outputs": [
    {
     "data": {
      "text/plain": [
       "array([[3.],\n",
       "       [1.],\n",
       "       [0.],\n",
       "       ...,\n",
       "       [2.],\n",
       "       [0.],\n",
       "       [2.]])"
      ]
     },
     "execution_count": 31,
     "metadata": {},
     "output_type": "execute_result"
    }
   ],
   "source": [
    "nuevoq"
   ]
  },
  {
   "cell_type": "code",
   "execution_count": 32,
   "id": "34240648",
   "metadata": {
    "ExecuteTime": {
     "end_time": "2023-05-07T02:44:11.729227Z",
     "start_time": "2023-05-07T02:44:11.605176Z"
    }
   },
   "outputs": [
    {
     "data": {
      "text/plain": [
       "<Axes: xlabel='EDAD'>"
      ]
     },
     "execution_count": 32,
     "metadata": {},
     "output_type": "execute_result"
    },
    {
     "data": {
      "image/png": "[encoded data removed]",
      "text/plain": [
       "<Figure size 640x480 with 1 Axes>"
      ]
     },
     "metadata": {},
     "output_type": "display_data"
    }
   ],
   "source": [
    "xq = pd.DataFrame(nuevoq)\n",
    "xq.columns = ['EDAD']\n",
    "xq.groupby('EDAD').size().plot(kind='bar')"
   ]
  },
  {
   "cell_type": "code",
   "execution_count": 33,
   "id": "f4bb6b64",
   "metadata": {
    "ExecuteTime": {
     "end_time": "2023-05-07T02:44:11.742901Z",
     "start_time": "2023-05-07T02:44:11.730223Z"
    }
   },
   "outputs": [
    {
     "data": {
      "text/plain": [
       "EDAD\n",
       "1.0     63636\n",
       "3.0     60893\n",
       "2.0     60217\n",
       "0.0     51502\n",
       "dtype: int64"
      ]
     },
     "execution_count": 33,
     "metadata": {},
     "output_type": "execute_result"
    }
   ],
   "source": [
    "xq.value_counts()"
   ]
  },
  {
   "cell_type": "markdown",
   "id": "d5aa9e11",
   "metadata": {},
   "source": [
    "En el grupo 3 hay 60,893 valores"
   ]
  },
  {
   "cell_type": "markdown",
   "id": "fb903da5",
   "metadata": {},
   "source": [
    "6. ¿Cuál es la proporción de los targets en el data train despues de undersampling? Considere parametros de random_state=20 y sampling_strategy=0.8"
   ]
  },
  {
   "cell_type": "code",
   "execution_count": 34,
   "id": "a9d27589",
   "metadata": {
    "ExecuteTime": {
     "end_time": "2023-05-07T02:44:11.746518Z",
     "start_time": "2023-05-07T02:44:11.743896Z"
    }
   },
   "outputs": [],
   "source": [
    "us = RandomUnderSampler(random_state=20,sampling_strategy=0.8)"
   ]
  },
  {
   "cell_type": "code",
   "execution_count": 35,
   "id": "859f36e5",
   "metadata": {
    "ExecuteTime": {
     "end_time": "2023-05-07T02:44:11.947259Z",
     "start_time": "2023-05-07T02:44:11.747484Z"
    }
   },
   "outputs": [],
   "source": [
    "x_under_s, y_under_s = us.fit_resample(x_train, y_train)"
   ]
  },
  {
   "cell_type": "code",
   "execution_count": 36,
   "id": "4e5c14dc",
   "metadata": {
    "ExecuteTime": {
     "end_time": "2023-05-07T02:44:11.954050Z",
     "start_time": "2023-05-07T02:44:11.948254Z"
    }
   },
   "outputs": [
    {
     "data": {
      "text/plain": [
       "TARGET_MODEL2\n",
       "0                16405\n",
       "1                13124\n",
       "dtype: int64"
      ]
     },
     "execution_count": 36,
     "metadata": {},
     "output_type": "execute_result"
    }
   ],
   "source": [
    "y_under_s.value_counts()"
   ]
  },
  {
   "cell_type": "markdown",
   "id": "eddd5ee7",
   "metadata": {},
   "source": [
    "7. ¿Cuál seria la proporcion del target despues de aplicar un RandomOversampling? Considere parametros de random_state=20 y sampling_strategy=0.8"
   ]
  },
  {
   "cell_type": "code",
   "execution_count": 37,
   "id": "0165324b",
   "metadata": {
    "ExecuteTime": {
     "end_time": "2023-05-07T02:44:11.962535Z",
     "start_time": "2023-05-07T02:44:11.955060Z"
    }
   },
   "outputs": [],
   "source": [
    "over = RandomOverSampler(random_state=20,sampling_strategy=0.8)"
   ]
  },
  {
   "cell_type": "code",
   "execution_count": 38,
   "id": "4b8f965f",
   "metadata": {
    "ExecuteTime": {
     "end_time": "2023-05-07T02:44:12.731891Z",
     "start_time": "2023-05-07T02:44:11.963529Z"
    }
   },
   "outputs": [],
   "source": [
    "x_over_s, y_over_s = over.fit_resample(x_train, y_train)"
   ]
  },
  {
   "cell_type": "code",
   "execution_count": 39,
   "id": "65162dd0",
   "metadata": {
    "ExecuteTime": {
     "end_time": "2023-05-07T02:44:12.745383Z",
     "start_time": "2023-05-07T02:44:12.732187Z"
    }
   },
   "outputs": [
    {
     "data": {
      "text/plain": [
       "TARGET_MODEL2\n",
       "0                223124\n",
       "1                178499\n",
       "dtype: int64"
      ]
     },
     "execution_count": 39,
     "metadata": {},
     "output_type": "execute_result"
    }
   ],
   "source": [
    "y_over_s.value_counts()"
   ]
  },
  {
   "cell_type": "markdown",
   "id": "c4b8b8c2",
   "metadata": {},
   "source": [
    "# CASO 2\n",
    "La presente aplicación captura datos socioeconómicos a nivel distrital para la realización de un ejemplo de reducción de dimensiones haciendo uso del análisis de componentes principales y factorial.\n",
    "\n",
    "*NOTA*\n",
    "1. Las variables a reducir son: porcentaje de hogares sin medios de comunicación (porc_hogares_sin_medios), porcentaje de alfabetismo (alfabetismo), porcentaje de hogares con 2 o más necesidades básicas incubiertas (porc_2_nbi), índice de desarrollo humano (IDH) y el coeficiente de desigualdad de GINI (GINI). Así, para la aplicación se deberá considerar estar 5 variables.\n",
    "\n",
    "2. Antes para resolución de las preguntas deberá verificar la existencia de valores faltantes en las variables a considerar en la aplicación y en caso de requerir imputarlas deberá aplicarse imputación por la media."
   ]
  },
  {
   "cell_type": "code",
   "execution_count": 40,
   "id": "40add8da",
   "metadata": {
    "ExecuteTime": {
     "end_time": "2023-05-07T02:44:12.765403Z",
     "start_time": "2023-05-07T02:44:12.746376Z"
    }
   },
   "outputs": [],
   "source": [
    "df2 = pd.read_spss(\"AusentismoPres2011.sav\")"
   ]
  },
  {
   "cell_type": "code",
   "execution_count": 41,
   "id": "f9cb99c7",
   "metadata": {
    "ExecuteTime": {
     "end_time": "2023-05-07T02:44:12.780622Z",
     "start_time": "2023-05-07T02:44:12.766399Z"
    }
   },
   "outputs": [
    {
     "data": {
      "text/html": [
       "<div>\n",
       "<style scoped>\n",
       "    .dataframe tbody tr th:only-of-type {\n",
       "        vertical-align: middle;\n",
       "    }\n",
       "\n",
       "    .dataframe tbody tr th {\n",
       "        vertical-align: top;\n",
       "    }\n",
       "\n",
       "    .dataframe thead th {\n",
       "        text-align: right;\n",
       "    }\n",
       "</style>\n",
       "<table border=\"1\" class=\"dataframe\">\n",
       "  <thead>\n",
       "    <tr style=\"text-align: right;\">\n",
       "      <th></th>\n",
       "      <th>ubigeo</th>\n",
       "      <th>departamento</th>\n",
       "      <th>dom_Geo</th>\n",
       "      <th>provincia</th>\n",
       "      <th>distrito</th>\n",
       "      <th>total_electoral</th>\n",
       "      <th>total_ausentismo</th>\n",
       "      <th>porc_Ausentismo</th>\n",
       "      <th>ord_Ausentismo</th>\n",
       "      <th>dic_Ausentismo</th>\n",
       "      <th>porc_hogares_sin_medios</th>\n",
       "      <th>IDH</th>\n",
       "      <th>alfabetismo</th>\n",
       "      <th>partidoGanador</th>\n",
       "      <th>porc_2_NBI</th>\n",
       "      <th>GINI</th>\n",
       "    </tr>\n",
       "  </thead>\n",
       "  <tbody>\n",
       "    <tr>\n",
       "      <th>0</th>\n",
       "      <td>010102</td>\n",
       "      <td>Amazonas</td>\n",
       "      <td>Norte</td>\n",
       "      <td>Chachapoyas</td>\n",
       "      <td>Asunción</td>\n",
       "      <td>234.0</td>\n",
       "      <td>59.0</td>\n",
       "      <td>25.213675</td>\n",
       "      <td>Ausentismo Grave</td>\n",
       "      <td>Ausentismo Fuerte</td>\n",
       "      <td>100.00</td>\n",
       "      <td>0.581463</td>\n",
       "      <td>86.893200</td>\n",
       "      <td>PERU POSIBLE</td>\n",
       "      <td>51.11</td>\n",
       "      <td>0.30</td>\n",
       "    </tr>\n",
       "    <tr>\n",
       "      <th>1</th>\n",
       "      <td>010103</td>\n",
       "      <td>Amazonas</td>\n",
       "      <td>Norte</td>\n",
       "      <td>Chachapoyas</td>\n",
       "      <td>Balsas</td>\n",
       "      <td>848.0</td>\n",
       "      <td>208.0</td>\n",
       "      <td>24.528301</td>\n",
       "      <td>Ausentismo Grave</td>\n",
       "      <td>Ausentismo Fuerte</td>\n",
       "      <td>94.87</td>\n",
       "      <td>0.562141</td>\n",
       "      <td>86.527290</td>\n",
       "      <td>FUERZA 2011</td>\n",
       "      <td>20.23</td>\n",
       "      <td>0.31</td>\n",
       "    </tr>\n",
       "    <tr>\n",
       "      <th>2</th>\n",
       "      <td>010104</td>\n",
       "      <td>Amazonas</td>\n",
       "      <td>Norte</td>\n",
       "      <td>Chachapoyas</td>\n",
       "      <td>Cheto</td>\n",
       "      <td>478.0</td>\n",
       "      <td>51.0</td>\n",
       "      <td>10.669457</td>\n",
       "      <td>Ausentismo Bajo</td>\n",
       "      <td>Ausentismo Leve</td>\n",
       "      <td>99.40</td>\n",
       "      <td>0.599150</td>\n",
       "      <td>92.838196</td>\n",
       "      <td>GANA PERU</td>\n",
       "      <td>16.87</td>\n",
       "      <td>0.28</td>\n",
       "    </tr>\n",
       "    <tr>\n",
       "      <th>3</th>\n",
       "      <td>010105</td>\n",
       "      <td>Amazonas</td>\n",
       "      <td>Norte</td>\n",
       "      <td>Chachapoyas</td>\n",
       "      <td>Chiliquín</td>\n",
       "      <td>638.0</td>\n",
       "      <td>197.0</td>\n",
       "      <td>30.877743</td>\n",
       "      <td>Ausentismo Grave</td>\n",
       "      <td>Ausentismo Fuerte</td>\n",
       "      <td>99.60</td>\n",
       "      <td>0.545484</td>\n",
       "      <td>86.541740</td>\n",
       "      <td>FUERZA 2011</td>\n",
       "      <td>31.73</td>\n",
       "      <td>0.29</td>\n",
       "    </tr>\n",
       "    <tr>\n",
       "      <th>4</th>\n",
       "      <td>010106</td>\n",
       "      <td>Amazonas</td>\n",
       "      <td>Norte</td>\n",
       "      <td>Chachapoyas</td>\n",
       "      <td>Chuquibamba</td>\n",
       "      <td>1161.0</td>\n",
       "      <td>333.0</td>\n",
       "      <td>28.682170</td>\n",
       "      <td>Ausentismo Grave</td>\n",
       "      <td>Ausentismo Fuerte</td>\n",
       "      <td>99.62</td>\n",
       "      <td>0.584659</td>\n",
       "      <td>92.598430</td>\n",
       "      <td>FUERZA 2011</td>\n",
       "      <td>17.55</td>\n",
       "      <td>0.31</td>\n",
       "    </tr>\n",
       "  </tbody>\n",
       "</table>\n",
       "</div>"
      ],
      "text/plain": [
       "   ubigeo departamento dom_Geo    provincia     distrito  total_electoral  \\\n",
       "0  010102     Amazonas   Norte  Chachapoyas     Asunción            234.0   \n",
       "1  010103     Amazonas   Norte  Chachapoyas       Balsas            848.0   \n",
       "2  010104     Amazonas   Norte  Chachapoyas        Cheto            478.0   \n",
       "3  010105     Amazonas   Norte  Chachapoyas    Chiliquín            638.0   \n",
       "4  010106     Amazonas   Norte  Chachapoyas  Chuquibamba           1161.0   \n",
       "\n",
       "   total_ausentismo  porc_Ausentismo    ord_Ausentismo     dic_Ausentismo  \\\n",
       "0              59.0        25.213675  Ausentismo Grave  Ausentismo Fuerte   \n",
       "1             208.0        24.528301  Ausentismo Grave  Ausentismo Fuerte   \n",
       "2              51.0        10.669457   Ausentismo Bajo    Ausentismo Leve   \n",
       "3             197.0        30.877743  Ausentismo Grave  Ausentismo Fuerte   \n",
       "4             333.0        28.682170  Ausentismo Grave  Ausentismo Fuerte   \n",
       "\n",
       "   porc_hogares_sin_medios       IDH  alfabetismo partidoGanador  porc_2_NBI  \\\n",
       "0                   100.00  0.581463    86.893200   PERU POSIBLE       51.11   \n",
       "1                    94.87  0.562141    86.527290    FUERZA 2011       20.23   \n",
       "2                    99.40  0.599150    92.838196      GANA PERU       16.87   \n",
       "3                    99.60  0.545484    86.541740    FUERZA 2011       31.73   \n",
       "4                    99.62  0.584659    92.598430    FUERZA 2011       17.55   \n",
       "\n",
       "   GINI  \n",
       "0  0.30  \n",
       "1  0.31  \n",
       "2  0.28  \n",
       "3  0.29  \n",
       "4  0.31  "
      ]
     },
     "execution_count": 41,
     "metadata": {},
     "output_type": "execute_result"
    }
   ],
   "source": [
    "df2.head()"
   ]
  },
  {
   "cell_type": "code",
   "execution_count": 42,
   "id": "612d2c39",
   "metadata": {
    "ExecuteTime": {
     "end_time": "2023-05-07T02:44:12.790412Z",
     "start_time": "2023-05-07T02:44:12.782126Z"
    }
   },
   "outputs": [
    {
     "data": {
      "text/plain": [
       "Index(['ubigeo', 'departamento', 'dom_Geo', 'provincia', 'distrito',\n",
       "       'total_electoral', 'total_ausentismo', 'porc_Ausentismo',\n",
       "       'ord_Ausentismo', 'dic_Ausentismo', 'porc_hogares_sin_medios', 'IDH',\n",
       "       'alfabetismo', 'partidoGanador', 'porc_2_NBI', 'GINI'],\n",
       "      dtype='object')"
      ]
     },
     "execution_count": 42,
     "metadata": {},
     "output_type": "execute_result"
    }
   ],
   "source": [
    "df2.columns"
   ]
  },
  {
   "cell_type": "code",
   "execution_count": 43,
   "id": "cfb9b5e3",
   "metadata": {
    "ExecuteTime": {
     "end_time": "2023-05-07T02:44:12.800892Z",
     "start_time": "2023-05-07T02:44:12.790926Z"
    }
   },
   "outputs": [
    {
     "data": {
      "text/plain": [
       "(1833, 16)"
      ]
     },
     "execution_count": 43,
     "metadata": {},
     "output_type": "execute_result"
    }
   ],
   "source": [
    "df2.shape"
   ]
  },
  {
   "cell_type": "code",
   "execution_count": 44,
   "id": "7ee8de65",
   "metadata": {
    "ExecuteTime": {
     "end_time": "2023-05-07T02:44:12.812705Z",
     "start_time": "2023-05-07T02:44:12.802404Z"
    }
   },
   "outputs": [
    {
     "data": {
      "text/plain": [
       "ubigeo                       object\n",
       "departamento                 object\n",
       "dom_Geo                      object\n",
       "provincia                    object\n",
       "distrito                     object\n",
       "total_electoral             float64\n",
       "total_ausentismo            float64\n",
       "porc_Ausentismo             float64\n",
       "ord_Ausentismo             category\n",
       "dic_Ausentismo             category\n",
       "porc_hogares_sin_medios     float64\n",
       "IDH                         float64\n",
       "alfabetismo                 float64\n",
       "partidoGanador               object\n",
       "porc_2_NBI                  float64\n",
       "GINI                        float64\n",
       "dtype: object"
      ]
     },
     "execution_count": 44,
     "metadata": {},
     "output_type": "execute_result"
    }
   ],
   "source": [
    "df2.dtypes"
   ]
  },
  {
   "cell_type": "code",
   "execution_count": 45,
   "id": "b05bf4ed",
   "metadata": {
    "ExecuteTime": {
     "end_time": "2023-05-07T02:44:12.825557Z",
     "start_time": "2023-05-07T02:44:12.813700Z"
    }
   },
   "outputs": [
    {
     "data": {
      "text/plain": [
       "ubigeo                     1832\n",
       "departamento                 25\n",
       "dom_Geo                       5\n",
       "provincia                   195\n",
       "distrito                   1683\n",
       "total_electoral            1652\n",
       "total_ausentismo           1149\n",
       "porc_Ausentismo            1822\n",
       "ord_Ausentismo                4\n",
       "dic_Ausentismo                2\n",
       "porc_hogares_sin_medios    1216\n",
       "IDH                        1832\n",
       "alfabetismo                1823\n",
       "partidoGanador                5\n",
       "porc_2_NBI                 1482\n",
       "GINI                         26\n",
       "dtype: int64"
      ]
     },
     "execution_count": 45,
     "metadata": {},
     "output_type": "execute_result"
    }
   ],
   "source": [
    "df2.nunique()"
   ]
  },
  {
   "cell_type": "code",
   "execution_count": 46,
   "id": "de8f01cb",
   "metadata": {
    "ExecuteTime": {
     "end_time": "2023-05-07T02:44:12.832537Z",
     "start_time": "2023-05-07T02:44:12.826552Z"
    }
   },
   "outputs": [],
   "source": [
    "variables = [\"porc_hogares_sin_medios\",\"alfabetismo\",\"porc_2_NBI\",\"IDH\",\"GINI\"]"
   ]
  },
  {
   "cell_type": "code",
   "execution_count": 47,
   "id": "5ca9f08c",
   "metadata": {
    "ExecuteTime": {
     "end_time": "2023-05-07T02:44:12.843022Z",
     "start_time": "2023-05-07T02:44:12.833534Z"
    }
   },
   "outputs": [],
   "source": [
    "dataAusentismo = df2[variables]"
   ]
  },
  {
   "cell_type": "code",
   "execution_count": 48,
   "id": "67ab008e",
   "metadata": {
    "ExecuteTime": {
     "end_time": "2023-05-07T02:44:12.856351Z",
     "start_time": "2023-05-07T02:44:12.844017Z"
    }
   },
   "outputs": [
    {
     "data": {
      "text/html": [
       "<div>\n",
       "<style scoped>\n",
       "    .dataframe tbody tr th:only-of-type {\n",
       "        vertical-align: middle;\n",
       "    }\n",
       "\n",
       "    .dataframe tbody tr th {\n",
       "        vertical-align: top;\n",
       "    }\n",
       "\n",
       "    .dataframe thead th {\n",
       "        text-align: right;\n",
       "    }\n",
       "</style>\n",
       "<table border=\"1\" class=\"dataframe\">\n",
       "  <thead>\n",
       "    <tr style=\"text-align: right;\">\n",
       "      <th></th>\n",
       "      <th>porc_hogares_sin_medios</th>\n",
       "      <th>alfabetismo</th>\n",
       "      <th>porc_2_NBI</th>\n",
       "      <th>IDH</th>\n",
       "      <th>GINI</th>\n",
       "    </tr>\n",
       "  </thead>\n",
       "  <tbody>\n",
       "    <tr>\n",
       "      <th>0</th>\n",
       "      <td>100.00</td>\n",
       "      <td>86.893200</td>\n",
       "      <td>51.11</td>\n",
       "      <td>0.581463</td>\n",
       "      <td>0.30</td>\n",
       "    </tr>\n",
       "    <tr>\n",
       "      <th>1</th>\n",
       "      <td>94.87</td>\n",
       "      <td>86.527290</td>\n",
       "      <td>20.23</td>\n",
       "      <td>0.562141</td>\n",
       "      <td>0.31</td>\n",
       "    </tr>\n",
       "    <tr>\n",
       "      <th>2</th>\n",
       "      <td>99.40</td>\n",
       "      <td>92.838196</td>\n",
       "      <td>16.87</td>\n",
       "      <td>0.599150</td>\n",
       "      <td>0.28</td>\n",
       "    </tr>\n",
       "    <tr>\n",
       "      <th>3</th>\n",
       "      <td>99.60</td>\n",
       "      <td>86.541740</td>\n",
       "      <td>31.73</td>\n",
       "      <td>0.545484</td>\n",
       "      <td>0.29</td>\n",
       "    </tr>\n",
       "    <tr>\n",
       "      <th>4</th>\n",
       "      <td>99.62</td>\n",
       "      <td>92.598430</td>\n",
       "      <td>17.55</td>\n",
       "      <td>0.584659</td>\n",
       "      <td>0.31</td>\n",
       "    </tr>\n",
       "  </tbody>\n",
       "</table>\n",
       "</div>"
      ],
      "text/plain": [
       "   porc_hogares_sin_medios  alfabetismo  porc_2_NBI       IDH  GINI\n",
       "0                   100.00    86.893200       51.11  0.581463  0.30\n",
       "1                    94.87    86.527290       20.23  0.562141  0.31\n",
       "2                    99.40    92.838196       16.87  0.599150  0.28\n",
       "3                    99.60    86.541740       31.73  0.545484  0.29\n",
       "4                    99.62    92.598430       17.55  0.584659  0.31"
      ]
     },
     "execution_count": 48,
     "metadata": {},
     "output_type": "execute_result"
    }
   ],
   "source": [
    "dataAusentismo.head()"
   ]
  },
  {
   "cell_type": "code",
   "execution_count": 49,
   "id": "cc1c1eca",
   "metadata": {
    "ExecuteTime": {
     "end_time": "2023-05-07T02:44:12.872427Z",
     "start_time": "2023-05-07T02:44:12.857347Z"
    }
   },
   "outputs": [
    {
     "name": "stdout",
     "output_type": "stream",
     "text": [
      "--------------------porc_hogares_sin_medios--------------------\n",
      "La columna tiene 1 nulos\n"
     ]
    },
    {
     "data": {
      "text/plain": [
       "'0.05455537370430987%'"
      ]
     },
     "metadata": {},
     "output_type": "display_data"
    },
    {
     "name": "stdout",
     "output_type": "stream",
     "text": [
      "--------------------alfabetismo--------------------\n",
      "La columna tiene 0 nulos\n"
     ]
    },
    {
     "data": {
      "text/plain": [
       "'0.0%'"
      ]
     },
     "metadata": {},
     "output_type": "display_data"
    },
    {
     "name": "stdout",
     "output_type": "stream",
     "text": [
      "--------------------porc_2_NBI--------------------\n",
      "La columna tiene 1 nulos\n"
     ]
    },
    {
     "data": {
      "text/plain": [
       "'0.05455537370430987%'"
      ]
     },
     "metadata": {},
     "output_type": "display_data"
    },
    {
     "name": "stdout",
     "output_type": "stream",
     "text": [
      "--------------------IDH--------------------\n",
      "La columna tiene 0 nulos\n"
     ]
    },
    {
     "data": {
      "text/plain": [
       "'0.0%'"
      ]
     },
     "metadata": {},
     "output_type": "display_data"
    },
    {
     "name": "stdout",
     "output_type": "stream",
     "text": [
      "--------------------GINI--------------------\n",
      "La columna tiene 1 nulos\n"
     ]
    },
    {
     "data": {
      "text/plain": [
       "'0.05455537370430987%'"
      ]
     },
     "metadata": {},
     "output_type": "display_data"
    }
   ],
   "source": [
    "for col in dataAusentismo.columns:\n",
    "    print(\"-\"*20 + col+\"-\"*20)\n",
    "    print(f\"La columna tiene {dataAusentismo[col].isnull().sum()} nulos\")\n",
    "    display(str(dataAusentismo[col].isnull().sum()/len(dataAusentismo[col])*100)+\"%\")"
   ]
  },
  {
   "cell_type": "code",
   "execution_count": 50,
   "id": "4189e1ff",
   "metadata": {
    "ExecuteTime": {
     "end_time": "2023-05-07T02:44:12.879721Z",
     "start_time": "2023-05-07T02:44:12.873421Z"
    }
   },
   "outputs": [
    {
     "name": "stderr",
     "output_type": "stream",
     "text": [
      "C:\\Users\\Tao\\AppData\\Local\\Temp\\ipykernel_77584\\2918032360.py:2: SettingWithCopyWarning: \n",
      "A value is trying to be set on a copy of a slice from a DataFrame.\n",
      "Try using .loc[row_indexer,col_indexer] = value instead\n",
      "\n",
      "See the caveats in the documentation: https://pandas.pydata.org/pandas-docs/stable/user_guide/indexing.html#returning-a-view-versus-a-copy\n",
      "  dataAusentismo[i] = dataAusentismo[i].fillna(dataAusentismo[i].mean())\n"
     ]
    }
   ],
   "source": [
    "for i in variables:\n",
    "    dataAusentismo[i] = dataAusentismo[i].fillna(dataAusentismo[i].mean())"
   ]
  },
  {
   "cell_type": "code",
   "execution_count": 51,
   "id": "a1906cdd",
   "metadata": {
    "ExecuteTime": {
     "end_time": "2023-05-07T02:44:12.889346Z",
     "start_time": "2023-05-07T02:44:12.880715Z"
    }
   },
   "outputs": [
    {
     "data": {
      "text/plain": [
       "porc_hogares_sin_medios    0\n",
       "alfabetismo                0\n",
       "porc_2_NBI                 0\n",
       "IDH                        0\n",
       "GINI                       0\n",
       "dtype: int64"
      ]
     },
     "execution_count": 51,
     "metadata": {},
     "output_type": "execute_result"
    }
   ],
   "source": [
    "dataAusentismo.isnull().sum()"
   ]
  },
  {
   "cell_type": "markdown",
   "id": "a9947f23",
   "metadata": {},
   "source": [
    "8. Escale los datos utilizando StandarScaler()  ¿Cuáles son los dos valores más altos al obtener los Eigevalores? Nota: eigevalor optimo cercano o superior a 1"
   ]
  },
  {
   "cell_type": "code",
   "execution_count": 52,
   "id": "4a84205c",
   "metadata": {
    "ExecuteTime": {
     "end_time": "2023-05-07T02:44:12.898390Z",
     "start_time": "2023-05-07T02:44:12.890339Z"
    }
   },
   "outputs": [],
   "source": [
    "std = StandardScaler()"
   ]
  },
  {
   "cell_type": "code",
   "execution_count": 53,
   "id": "9aa8fefb",
   "metadata": {
    "ExecuteTime": {
     "end_time": "2023-05-07T02:44:12.909967Z",
     "start_time": "2023-05-07T02:44:12.899386Z"
    }
   },
   "outputs": [],
   "source": [
    "dataAusentismo_std =std.fit_transform(dataAusentismo)"
   ]
  },
  {
   "cell_type": "code",
   "execution_count": 54,
   "id": "07319537",
   "metadata": {
    "ExecuteTime": {
     "end_time": "2023-05-07T02:44:12.918353Z",
     "start_time": "2023-05-07T02:44:12.910963Z"
    }
   },
   "outputs": [
    {
     "data": {
      "text/plain": [
       "array([[ 0.79370883,  0.05780913,  2.37840646,  0.15051446,  0.31894249],\n",
       "       [ 0.58585678,  0.01676029,  0.07901366, -0.27331899,  0.58192864],\n",
       "       [ 0.76939865,  0.72473601, -0.17117934,  0.53850679, -0.20702982],\n",
       "       ...,\n",
       "       [ 0.48456436,  0.52150548,  1.71048051,  0.34715541,  0.31894249],\n",
       "       [ 0.75319186,  0.81882875,  0.99936648,  0.40895037, -0.47001598],\n",
       "       [ 0.40353043, -0.64028933,  0.53770083, -0.90641868,  1.63387326]])"
      ]
     },
     "execution_count": 54,
     "metadata": {},
     "output_type": "execute_result"
    }
   ],
   "source": [
    "dataAusentismo_std"
   ]
  },
  {
   "cell_type": "code",
   "execution_count": 55,
   "id": "6554b2cc",
   "metadata": {
    "ExecuteTime": {
     "end_time": "2023-05-07T02:44:12.927659Z",
     "start_time": "2023-05-07T02:44:12.919348Z"
    }
   },
   "outputs": [],
   "source": [
    "cov_mat = np.cov(dataAusentismo_std.T)"
   ]
  },
  {
   "cell_type": "code",
   "execution_count": 56,
   "id": "fad5ee4d",
   "metadata": {
    "ExecuteTime": {
     "end_time": "2023-05-07T02:44:12.937601Z",
     "start_time": "2023-05-07T02:44:12.928654Z"
    }
   },
   "outputs": [
    {
     "data": {
      "text/plain": [
       "array([[ 1.00054585, -0.55557249,  0.42410777, -0.78271672, -0.18390248],\n",
       "       [-0.55557249,  1.00054585, -0.22748875,  0.84662243,  0.05942182],\n",
       "       [ 0.42410777, -0.22748875,  1.00054585, -0.39618228, -0.0909943 ],\n",
       "       [-0.78271672,  0.84662243, -0.39618228,  1.00054585,  0.1092847 ],\n",
       "       [-0.18390248,  0.05942182, -0.0909943 ,  0.1092847 ,  1.00054585]])"
      ]
     },
     "execution_count": 56,
     "metadata": {},
     "output_type": "execute_result"
    }
   ],
   "source": [
    "cov_mat"
   ]
  },
  {
   "cell_type": "code",
   "execution_count": 57,
   "id": "4ea8c576",
   "metadata": {
    "ExecuteTime": {
     "end_time": "2023-05-07T02:44:12.946635Z",
     "start_time": "2023-05-07T02:44:12.938596Z"
    }
   },
   "outputs": [],
   "source": [
    "autovalores, autovectores = np.linalg.eig(cov_mat)"
   ]
  },
  {
   "cell_type": "code",
   "execution_count": 58,
   "id": "b1f5814a",
   "metadata": {
    "ExecuteTime": {
     "end_time": "2023-05-07T02:44:12.956921Z",
     "start_time": "2023-05-07T02:44:12.947630Z"
    }
   },
   "outputs": [
    {
     "data": {
      "text/plain": [
       "array([2.71177068, 0.08714594, 0.38944287, 0.9937545 , 0.82061526])"
      ]
     },
     "execution_count": 58,
     "metadata": {},
     "output_type": "execute_result"
    }
   ],
   "source": [
    "autovalores"
   ]
  },
  {
   "cell_type": "code",
   "execution_count": 59,
   "id": "7131d2e9",
   "metadata": {
    "ExecuteTime": {
     "end_time": "2023-05-07T02:44:12.973750Z",
     "start_time": "2023-05-07T02:44:12.957915Z"
    }
   },
   "outputs": [
    {
     "data": {
      "text/plain": [
       "array([[-0.52680955,  0.34132636,  0.77634747, -0.04851744,  0.02997802],\n",
       "       [ 0.50664476, -0.50914469,  0.5385197 , -0.23632166,  0.37179481],\n",
       "       [-0.33866742,  0.0577763 , -0.29846317, -0.14971205,  0.87776553],\n",
       "       [ 0.57828017,  0.78787823,  0.03133858, -0.13678052,  0.15858413],\n",
       "       [ 0.12914803,  0.01333408,  0.13122032,  0.94903926,  0.25543824]])"
      ]
     },
     "execution_count": 59,
     "metadata": {},
     "output_type": "execute_result"
    }
   ],
   "source": [
    "autovectores"
   ]
  },
  {
   "cell_type": "code",
   "execution_count": 60,
   "id": "b2ffb109",
   "metadata": {
    "ExecuteTime": {
     "end_time": "2023-05-07T02:44:12.987789Z",
     "start_time": "2023-05-07T02:44:12.974744Z"
    }
   },
   "outputs": [
    {
     "data": {
      "text/plain": [
       "array([0.08714594, 0.38944287, 0.82061526, 0.9937545 , 2.71177068])"
      ]
     },
     "execution_count": 60,
     "metadata": {},
     "output_type": "execute_result"
    }
   ],
   "source": [
    "autovalores.sort()\n",
    "autovalores"
   ]
  },
  {
   "cell_type": "markdown",
   "id": "3a092067",
   "metadata": {},
   "source": [
    "9. ¿Cuál es el primer registro de la 1ra columna despues de aplicar PCA con el número de componentes obtenidos?Considere random_state=20 y que debemos trabajar con los datos escalados por estandarización."
   ]
  },
  {
   "cell_type": "code",
   "execution_count": 61,
   "id": "6f2cb7ac",
   "metadata": {
    "ExecuteTime": {
     "end_time": "2023-05-07T02:44:12.996600Z",
     "start_time": "2023-05-07T02:44:12.988784Z"
    }
   },
   "outputs": [],
   "source": [
    "pca = PCA(n_components=2, random_state=20)"
   ]
  },
  {
   "cell_type": "code",
   "execution_count": 62,
   "id": "759a662c",
   "metadata": {
    "ExecuteTime": {
     "end_time": "2023-05-07T02:44:13.011076Z",
     "start_time": "2023-05-07T02:44:12.997594Z"
    }
   },
   "outputs": [
    {
     "data": {
      "text/html": [
       "<style>#sk-container-id-1 {color: black;background-color: white;}#sk-container-id-1 pre{padding: 0;}#sk-container-id-1 div.sk-toggleable {background-color: white;}#sk-container-id-1 label.sk-toggleable__label {cursor: pointer;display: block;width: 100%;margin-bottom: 0;padding: 0.3em;box-sizing: border-box;text-align: center;}#sk-container-id-1 label.sk-toggleable__label-arrow:before {content: \"▸\";float: left;margin-right: 0.25em;color: #696969;}#sk-container-id-1 label.sk-toggleable__label-arrow:hover:before {color: black;}#sk-container-id-1 div.sk-estimator:hover label.sk-toggleable__label-arrow:before {color: black;}#sk-container-id-1 div.sk-toggleable__content {max-height: 0;max-width: 0;overflow: hidden;text-align: left;background-color: #f0f8ff;}#sk-container-id-1 div.sk-toggleable__content pre {margin: 0.2em;color: black;border-radius: 0.25em;background-color: #f0f8ff;}#sk-container-id-1 input.sk-toggleable__control:checked~div.sk-toggleable__content {max-height: 200px;max-width: 100%;overflow: auto;}#sk-container-id-1 input.sk-toggleable__control:checked~label.sk-toggleable__label-arrow:before {content: \"▾\";}#sk-container-id-1 div.sk-estimator input.sk-toggleable__control:checked~label.sk-toggleable__label {background-color: #d4ebff;}#sk-container-id-1 div.sk-label input.sk-toggleable__control:checked~label.sk-toggleable__label {background-color: #d4ebff;}#sk-container-id-1 input.sk-hidden--visually {border: 0;clip: rect(1px 1px 1px 1px);clip: rect(1px, 1px, 1px, 1px);height: 1px;margin: -1px;overflow: hidden;padding: 0;position: absolute;width: 1px;}#sk-container-id-1 div.sk-estimator {font-family: monospace;background-color: #f0f8ff;border: 1px dotted black;border-radius: 0.25em;box-sizing: border-box;margin-bottom: 0.5em;}#sk-container-id-1 div.sk-estimator:hover {background-color: #d4ebff;}#sk-container-id-1 div.sk-parallel-item::after {content: \"\";width: 100%;border-bottom: 1px solid gray;flex-grow: 1;}#sk-container-id-1 div.sk-label:hover label.sk-toggleable__label {background-color: #d4ebff;}#sk-container-id-1 div.sk-serial::before {content: \"\";position: absolute;border-left: 1px solid gray;box-sizing: border-box;top: 0;bottom: 0;left: 50%;z-index: 0;}#sk-container-id-1 div.sk-serial {display: flex;flex-direction: column;align-items: center;background-color: white;padding-right: 0.2em;padding-left: 0.2em;position: relative;}#sk-container-id-1 div.sk-item {position: relative;z-index: 1;}#sk-container-id-1 div.sk-parallel {display: flex;align-items: stretch;justify-content: center;background-color: white;position: relative;}#sk-container-id-1 div.sk-item::before, #sk-container-id-1 div.sk-parallel-item::before {content: \"\";position: absolute;border-left: 1px solid gray;box-sizing: border-box;top: 0;bottom: 0;left: 50%;z-index: -1;}#sk-container-id-1 div.sk-parallel-item {display: flex;flex-direction: column;z-index: 1;position: relative;background-color: white;}#sk-container-id-1 div.sk-parallel-item:first-child::after {align-self: flex-end;width: 50%;}#sk-container-id-1 div.sk-parallel-item:last-child::after {align-self: flex-start;width: 50%;}#sk-container-id-1 div.sk-parallel-item:only-child::after {width: 0;}#sk-container-id-1 div.sk-dashed-wrapped {border: 1px dashed gray;margin: 0 0.4em 0.5em 0.4em;box-sizing: border-box;padding-bottom: 0.4em;background-color: white;}#sk-container-id-1 div.sk-label label {font-family: monospace;font-weight: bold;display: inline-block;line-height: 1.2em;}#sk-container-id-1 div.sk-label-container {text-align: center;}#sk-container-id-1 div.sk-container {/* jupyter's `normalize.less` sets `[hidden] { display: none; }` but bootstrap.min.css set `[hidden] { display: none !important; }` so we also need the `!important` here to be able to override the default hidden behavior on the sphinx rendered scikit-learn.org. See: https://github.com/scikit-learn/scikit-learn/issues/21755 */display: inline-block !important;position: relative;}#sk-container-id-1 div.sk-text-repr-fallback {display: none;}</style><div id=\"sk-container-id-1\" class=\"sk-top-container\"><div class=\"sk-text-repr-fallback\"><pre>PCA(n_components=2, random_state=20)</pre><b>In a Jupyter environment, please rerun this cell to show the HTML representation or trust the notebook. <br />On GitHub, the HTML representation is unable to render, please try loading this page with nbviewer.org.</b></div><div class=\"sk-container\" hidden><div class=\"sk-item\"><div class=\"sk-estimator sk-toggleable\"><input class=\"sk-toggleable__control sk-hidden--visually\" id=\"sk-estimator-id-1\" type=\"checkbox\" checked><label for=\"sk-estimator-id-1\" class=\"sk-toggleable__label sk-toggleable__label-arrow\">PCA</label><div class=\"sk-toggleable__content\"><pre>PCA(n_components=2, random_state=20)</pre></div></div></div></div></div>"
      ],
      "text/plain": [
       "PCA(n_components=2, random_state=20)"
      ]
     },
     "execution_count": 62,
     "metadata": {},
     "output_type": "execute_result"
    }
   ],
   "source": [
    "pca.fit(dataAusentismo_std)"
   ]
  },
  {
   "cell_type": "code",
   "execution_count": 63,
   "id": "c7a350b8",
   "metadata": {
    "ExecuteTime": {
     "end_time": "2023-05-07T02:44:13.017656Z",
     "start_time": "2023-05-07T02:44:13.012066Z"
    }
   },
   "outputs": [
    {
     "data": {
      "text/plain": [
       "[0.54, 0.2]"
      ]
     },
     "execution_count": 63,
     "metadata": {},
     "output_type": "execute_result"
    }
   ],
   "source": [
    "rounded = [round(x,2) for x in pca.explained_variance_ratio_]\n",
    "rounded"
   ]
  },
  {
   "cell_type": "code",
   "execution_count": 64,
   "id": "5ceaecca",
   "metadata": {
    "ExecuteTime": {
     "end_time": "2023-05-07T02:44:13.027143Z",
     "start_time": "2023-05-07T02:44:13.018651Z"
    }
   },
   "outputs": [
    {
     "data": {
      "text/plain": [
       "array([0.54205825, 0.19864247])"
      ]
     },
     "execution_count": 64,
     "metadata": {},
     "output_type": "execute_result"
    }
   ],
   "source": [
    "pca.explained_variance_ratio_\n"
   ]
  },
  {
   "cell_type": "code",
   "execution_count": 65,
   "id": "9f3c9a53",
   "metadata": {
    "ExecuteTime": {
     "end_time": "2023-05-07T02:44:13.036911Z",
     "start_time": "2023-05-07T02:44:13.028139Z"
    }
   },
   "outputs": [],
   "source": [
    "X_pca = pca.transform(dataAusentismo_std)\n"
   ]
  },
  {
   "cell_type": "code",
   "execution_count": 66,
   "id": "89e93953",
   "metadata": {
    "ExecuteTime": {
     "end_time": "2023-05-07T02:44:13.046958Z",
     "start_time": "2023-05-07T02:44:13.037907Z"
    }
   },
   "outputs": [
    {
     "data": {
      "text/plain": [
       "(1833, 2)"
      ]
     },
     "execution_count": 66,
     "metadata": {},
     "output_type": "execute_result"
    }
   ],
   "source": [
    "X_pca.shape"
   ]
  },
  {
   "cell_type": "code",
   "execution_count": 67,
   "id": "0eb7a3ba",
   "metadata": {
    "ExecuteTime": {
     "end_time": "2023-05-07T02:44:13.056143Z",
     "start_time": "2023-05-07T02:44:13.047953Z"
    }
   },
   "outputs": [],
   "source": [
    "df_pca = pd.DataFrame(X_pca)"
   ]
  },
  {
   "cell_type": "code",
   "execution_count": 68,
   "id": "ca390fba",
   "metadata": {
    "ExecuteTime": {
     "end_time": "2023-05-07T02:44:13.068047Z",
     "start_time": "2023-05-07T02:44:13.057138Z"
    }
   },
   "outputs": [
    {
     "data": {
      "text/html": [
       "<div>\n",
       "<style scoped>\n",
       "    .dataframe tbody tr th:only-of-type {\n",
       "        vertical-align: middle;\n",
       "    }\n",
       "\n",
       "    .dataframe tbody tr th {\n",
       "        vertical-align: top;\n",
       "    }\n",
       "\n",
       "    .dataframe thead th {\n",
       "        text-align: right;\n",
       "    }\n",
       "</style>\n",
       "<table border=\"1\" class=\"dataframe\">\n",
       "  <thead>\n",
       "    <tr style=\"text-align: right;\">\n",
       "      <th></th>\n",
       "      <th>0</th>\n",
       "      <th>1</th>\n",
       "    </tr>\n",
       "  </thead>\n",
       "  <tbody>\n",
       "    <tr>\n",
       "      <th>0</th>\n",
       "      <td>-1.066103</td>\n",
       "      <td>-0.126145</td>\n",
       "    </tr>\n",
       "    <tr>\n",
       "      <th>1</th>\n",
       "      <td>-0.409803</td>\n",
       "      <td>0.545443</td>\n",
       "    </tr>\n",
       "    <tr>\n",
       "      <th>2</th>\n",
       "      <td>0.304500</td>\n",
       "      <td>-0.453109</td>\n",
       "    </tr>\n",
       "    <tr>\n",
       "      <th>3</th>\n",
       "      <td>-1.079169</td>\n",
       "      <td>-0.041630</td>\n",
       "    </tr>\n",
       "    <tr>\n",
       "      <th>4</th>\n",
       "      <td>0.187100</td>\n",
       "      <td>0.337466</td>\n",
       "    </tr>\n",
       "  </tbody>\n",
       "</table>\n",
       "</div>"
      ],
      "text/plain": [
       "          0         1\n",
       "0 -1.066103 -0.126145\n",
       "1 -0.409803  0.545443\n",
       "2  0.304500 -0.453109\n",
       "3 -1.079169 -0.041630\n",
       "4  0.187100  0.337466"
      ]
     },
     "execution_count": 68,
     "metadata": {},
     "output_type": "execute_result"
    }
   ],
   "source": [
    "df_pca.head()"
   ]
  },
  {
   "cell_type": "markdown",
   "id": "f0d5c315",
   "metadata": {},
   "source": [
    "10. ¿Cuál es el primer registro de la 1ra columna despues de aplicar Analisis Factorial con el número de factores optimos? Considere random_state=20 y que debemos trabajar con los datos escalados por estandarización"
   ]
  },
  {
   "cell_type": "code",
   "execution_count": 69,
   "id": "a39a4876",
   "metadata": {
    "ExecuteTime": {
     "end_time": "2023-05-07T02:44:13.076961Z",
     "start_time": "2023-05-07T02:44:13.069042Z"
    }
   },
   "outputs": [],
   "source": [
    "factor = FactorAnalysis(n_components=2, random_state=20)"
   ]
  },
  {
   "cell_type": "code",
   "execution_count": 70,
   "id": "2b222a74",
   "metadata": {
    "ExecuteTime": {
     "end_time": "2023-05-07T02:44:13.125711Z",
     "start_time": "2023-05-07T02:44:13.077956Z"
    }
   },
   "outputs": [],
   "source": [
    "x_fa = factor.fit_transform(dataAusentismo_std)"
   ]
  },
  {
   "cell_type": "code",
   "execution_count": 71,
   "id": "500f9a4b",
   "metadata": {
    "ExecuteTime": {
     "end_time": "2023-05-07T02:44:13.129961Z",
     "start_time": "2023-05-07T02:44:13.126706Z"
    }
   },
   "outputs": [],
   "source": [
    "x_fa_df = pd.DataFrame(x_fa, columns=[\"FA1\",\"FA2\"])"
   ]
  },
  {
   "cell_type": "code",
   "execution_count": 72,
   "id": "39ffb175",
   "metadata": {
    "ExecuteTime": {
     "end_time": "2023-05-07T02:44:13.142810Z",
     "start_time": "2023-05-07T02:44:13.130955Z"
    }
   },
   "outputs": [
    {
     "data": {
      "text/html": [
       "<div>\n",
       "<style scoped>\n",
       "    .dataframe tbody tr th:only-of-type {\n",
       "        vertical-align: middle;\n",
       "    }\n",
       "\n",
       "    .dataframe tbody tr th {\n",
       "        vertical-align: top;\n",
       "    }\n",
       "\n",
       "    .dataframe thead th {\n",
       "        text-align: right;\n",
       "    }\n",
       "</style>\n",
       "<table border=\"1\" class=\"dataframe\">\n",
       "  <thead>\n",
       "    <tr style=\"text-align: right;\">\n",
       "      <th></th>\n",
       "      <th>FA1</th>\n",
       "      <th>FA2</th>\n",
       "    </tr>\n",
       "  </thead>\n",
       "  <tbody>\n",
       "    <tr>\n",
       "      <th>0</th>\n",
       "      <td>-0.016636</td>\n",
       "      <td>-0.837262</td>\n",
       "    </tr>\n",
       "    <tr>\n",
       "      <th>1</th>\n",
       "      <td>-0.241867</td>\n",
       "      <td>-0.460126</td>\n",
       "    </tr>\n",
       "    <tr>\n",
       "      <th>2</th>\n",
       "      <td>0.455314</td>\n",
       "      <td>-1.021418</td>\n",
       "    </tr>\n",
       "    <tr>\n",
       "      <th>3</th>\n",
       "      <td>-0.519443</td>\n",
       "      <td>-0.861650</td>\n",
       "    </tr>\n",
       "    <tr>\n",
       "      <th>4</th>\n",
       "      <td>0.241034</td>\n",
       "      <td>-1.070645</td>\n",
       "    </tr>\n",
       "  </tbody>\n",
       "</table>\n",
       "</div>"
      ],
      "text/plain": [
       "        FA1       FA2\n",
       "0 -0.016636 -0.837262\n",
       "1 -0.241867 -0.460126\n",
       "2  0.455314 -1.021418\n",
       "3 -0.519443 -0.861650\n",
       "4  0.241034 -1.070645"
      ]
     },
     "execution_count": 72,
     "metadata": {},
     "output_type": "execute_result"
    }
   ],
   "source": [
    "x_fa_df.head()"
   ]
  }
 ],
 "metadata": {
  "kernelspec": {
   "display_name": "Python 3 (ipykernel)",
   "language": "python",
   "name": "python3"
  },
  "language_info": {
   "codemirror_mode": {
    "name": "ipython",
    "version": 3
   },
   "file_extension": ".py",
   "mimetype": "text/x-python",
   "name": "python",
   "nbconvert_exporter": "python",
   "pygments_lexer": "ipython3",
   "version": "3.11.2"
  },
  "varInspector": {
   "cols": {
    "lenName": 16,
    "lenType": 16,
    "lenVar": 40
   },
   "kernels_config": {
    "python": {
     "delete_cmd_postfix": "",
     "delete_cmd_prefix": "del ",
     "library": "var_list.py",
     "varRefreshCmd": "print(var_dic_list())"
    },
    "r": {
     "delete_cmd_postfix": ") ",
     "delete_cmd_prefix": "rm(",
     "library": "var_list.r",
     "varRefreshCmd": "cat(var_dic_list()) "
    }
   },
   "types_to_exclude": [
    "module",
    "function",
    "builtin_function_or_method",
    "instance",
    "_Feature"
   ],
   "window_display": false
  }
 },
 "nbformat": 4,
 "nbformat_minor": 5
}
